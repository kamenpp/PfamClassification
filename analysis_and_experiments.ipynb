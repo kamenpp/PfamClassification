{
 "cells": [
  {
   "cell_type": "code",
   "execution_count": 1,
   "id": "f705e895-b4c2-4d42-85c0-b6a1dbda310a",
   "metadata": {
    "tags": []
   },
   "outputs": [],
   "source": [
    "import torch\n",
    "import torch.nn as nn\n",
    "from torch.utils.data import Dataset, DataLoader\n",
    "from typing import Tuple, Dict\n",
    "\n",
    "import pandas as pd\n",
    "import numpy as np\n",
    "import matplotlib.pyplot as plt\n",
    "import seaborn as sn\n",
    "from tqdm.auto import tqdm\n",
    "tqdm.pandas()\n",
    "import json\n",
    "\n",
    "from sklearn.metrics import accuracy_score\n",
    "from scipy import stats\n",
    "\n",
    "from model import Model\n",
    "from one_hot_dataset import OneHotDataset\n",
    "\n",
    "import pickle"
   ]
  },
  {
   "cell_type": "code",
   "execution_count": 2,
   "id": "1d69dd9d-d84d-435f-bd15-31a352653a11",
   "metadata": {
    "tags": []
   },
   "outputs": [],
   "source": [
    "with open('index_to_family_label_dict.pkl', 'rb') as f:\n",
    "    index_to_family_label_dict = pickle.load(f)"
   ]
  },
  {
   "cell_type": "markdown",
   "id": "1205b51e-4ff3-484e-b997-a76f3fabf559",
   "metadata": {},
   "source": [
    "index_to_family_label_dict contains the mapping of index Pfam accession - important for the analysis later. Also, get the reverse dictionary."
   ]
  },
  {
   "cell_type": "code",
   "execution_count": 3,
   "id": "2e521e31-3792-4531-b0ad-404ee00dc6c3",
   "metadata": {
    "tags": []
   },
   "outputs": [],
   "source": [
    "family_label_to_index_dict = {v:k for k, v in index_to_family_label_dict.items()}"
   ]
  },
  {
   "cell_type": "markdown",
   "id": "6b53e773-61c4-4332-b567-6c4fba9175f5",
   "metadata": {},
   "source": [
    "### We will later also need the processed dataframes that were used for generation of the training and test data"
   ]
  },
  {
   "cell_type": "code",
   "execution_count": 4,
   "id": "551d7817-1d28-42f9-8a41-2d976fdc006b",
   "metadata": {
    "tags": []
   },
   "outputs": [],
   "source": [
    "train_df = pd.read_csv('processed_df/train.csv', ).reset_index(drop=True)\n",
    "test_df = pd.read_csv('processed_df/test.csv', ).reset_index(drop=True)"
   ]
  },
  {
   "cell_type": "code",
   "execution_count": 5,
   "id": "28549b4f-a78a-4685-8d06-10603be57caf",
   "metadata": {
    "tags": []
   },
   "outputs": [
    {
     "data": {
      "text/html": [
       "<div>\n",
       "<style scoped>\n",
       "    .dataframe tbody tr th:only-of-type {\n",
       "        vertical-align: middle;\n",
       "    }\n",
       "\n",
       "    .dataframe tbody tr th {\n",
       "        vertical-align: top;\n",
       "    }\n",
       "\n",
       "    .dataframe thead th {\n",
       "        text-align: right;\n",
       "    }\n",
       "</style>\n",
       "<table border=\"1\" class=\"dataframe\">\n",
       "  <thead>\n",
       "    <tr style=\"text-align: right;\">\n",
       "      <th></th>\n",
       "      <th>family_id</th>\n",
       "      <th>sequence_name</th>\n",
       "      <th>family_accession</th>\n",
       "      <th>aligned_sequence</th>\n",
       "      <th>sequence</th>\n",
       "      <th>seq_length</th>\n",
       "    </tr>\n",
       "  </thead>\n",
       "  <tbody>\n",
       "    <tr>\n",
       "      <th>0</th>\n",
       "      <td>Rtt106</td>\n",
       "      <td>POB3_CANAL/362-454</td>\n",
       "      <td>PF08512.12</td>\n",
       "      <td>AGVPCSVKA...SEGYLFPL......DRCFLF.VTKPTLYIPYSE....</td>\n",
       "      <td>AGVPCSVKASEGYLFPLDRCFLFVTKPTLYIPYSEISSVVMSRTGG...</td>\n",
       "      <td>93</td>\n",
       "    </tr>\n",
       "    <tr>\n",
       "      <th>1</th>\n",
       "      <td>HupF_HypC</td>\n",
       "      <td>O28902_ARCFU/1-65</td>\n",
       "      <td>PF01455.18</td>\n",
       "      <td>MCIAIPGR...I.ER..IDY...............P....IAIVDF...</td>\n",
       "      <td>MCIAIPGRIERIDYPIAIVDFKGLKKEVRIDLLENPQIGDYVLVHV...</td>\n",
       "      <td>65</td>\n",
       "    </tr>\n",
       "  </tbody>\n",
       "</table>\n",
       "</div>"
      ],
      "text/plain": [
       "   family_id       sequence_name family_accession  \\\n",
       "0     Rtt106  POB3_CANAL/362-454       PF08512.12   \n",
       "1  HupF_HypC   O28902_ARCFU/1-65       PF01455.18   \n",
       "\n",
       "                                    aligned_sequence  \\\n",
       "0  AGVPCSVKA...SEGYLFPL......DRCFLF.VTKPTLYIPYSE....   \n",
       "1  MCIAIPGR...I.ER..IDY...............P....IAIVDF...   \n",
       "\n",
       "                                            sequence  seq_length  \n",
       "0  AGVPCSVKASEGYLFPLDRCFLFVTKPTLYIPYSEISSVVMSRTGG...          93  \n",
       "1  MCIAIPGRIERIDYPIAIVDFKGLKKEVRIDLLENPQIGDYVLVHV...          65  "
      ]
     },
     "execution_count": 5,
     "metadata": {},
     "output_type": "execute_result"
    }
   ],
   "source": [
    "train_df.head(2)"
   ]
  },
  {
   "cell_type": "markdown",
   "id": "c190a71e-3129-4fea-b919-9bd0ed343f34",
   "metadata": {},
   "source": [
    "### Get the maximum percent sequence identity between a sequence in the test set and any sequence in the training set.\n",
    "In addition, save the family with which the maximum sequence identity match was found. This analysis could be done with something like the top 5 (or whatever) average sequence identities, I will use the top 1 in this case."
   ]
  },
  {
   "cell_type": "code",
   "execution_count": 6,
   "id": "94162dff-cbde-45c3-95c5-a13a53f3313c",
   "metadata": {
    "tags": []
   },
   "outputs": [],
   "source": [
    "def compute_percent_sequence_identity(sequence: str,\n",
    "                                      train_df: pd.DataFrame) -> Tuple[float, str]:\n",
    "    \"\"\"\n",
    "    Computes the maximum percent sequence identity between a protein\n",
    "            sequence and any protein sequence in the training DataFrame.\n",
    "\n",
    "    Args:\n",
    "     sequence (str): the protein sequence to compare.\n",
    "     train_df (pd.DataFrame): the Pfam seed training df. Must already have the seq_length column.\n",
    "\n",
    "    Returns:\n",
    "     max_identity (float) the maximum sequence identity \n",
    "     max_identity_fam_accession (float): the family accession corresponding to the\n",
    "             sequence that achieved this maximum identity.\n",
    "\n",
    "    \"\"\"\n",
    "    assert 'seq_length' in train_df.columns, \"The 'seq_length' column with the sequence lengths must exist in train_df.\"\n",
    "    seq_length = len(sequence)\n",
    "    # Get all the sequences with the same length as the input sequence\n",
    "    train_sequences, train_family_accessions = train_df.loc[train_df['seq_length'] == seq_length][['sequence', 'family_accession']].values.T\n",
    "    max_identity = 0.\n",
    "    max_identity_fam_accession = \"\"\n",
    "    for train_seq, train_fam_access in zip(train_sequences,train_family_accessions):\n",
    "        # Compute sequence identity\n",
    "        identity = sum(a == b for a, b in zip(sequence, train_seq)) / seq_length\n",
    "        # Update max identity if necessary\n",
    "        if identity > max_identity:\n",
    "            max_identity = identity\n",
    "            max_identity_fam_accession = train_fam_access\n",
    "    return (max_identity, max_identity_fam_accession)"
   ]
  },
  {
   "cell_type": "code",
   "execution_count": 7,
   "id": "3c27bf78-611f-48e6-b0dd-866941e99e38",
   "metadata": {
    "tags": []
   },
   "outputs": [
    {
     "data": {
      "application/vnd.jupyter.widget-view+json": {
       "model_id": "3a687864b1eb4177945506c83e0bed66",
       "version_major": 2,
       "version_minor": 0
      },
      "text/plain": [
       "  0%|          | 0/64417 [00:00<?, ?it/s]"
      ]
     },
     "metadata": {},
     "output_type": "display_data"
    }
   ],
   "source": [
    "list_of_tuples = test_df['sequence'].progress_apply(lambda seq: compute_percent_sequence_identity(seq, train_df))"
   ]
  },
  {
   "cell_type": "code",
   "execution_count": 8,
   "id": "3cf419bb-f60c-48cc-9e3d-65e047843fd7",
   "metadata": {
    "tags": []
   },
   "outputs": [],
   "source": [
    "test_df['max_seq_identity'], test_df['pfam_max_seq_identity'] = zip(*list_of_tuples)"
   ]
  },
  {
   "cell_type": "code",
   "execution_count": 9,
   "id": "8f78fa71-5ab9-4efb-8002-e366e27e517b",
   "metadata": {
    "tags": []
   },
   "outputs": [
    {
     "data": {
      "text/html": [
       "<div>\n",
       "<style scoped>\n",
       "    .dataframe tbody tr th:only-of-type {\n",
       "        vertical-align: middle;\n",
       "    }\n",
       "\n",
       "    .dataframe tbody tr th {\n",
       "        vertical-align: top;\n",
       "    }\n",
       "\n",
       "    .dataframe thead th {\n",
       "        text-align: right;\n",
       "    }\n",
       "</style>\n",
       "<table border=\"1\" class=\"dataframe\">\n",
       "  <thead>\n",
       "    <tr style=\"text-align: right;\">\n",
       "      <th></th>\n",
       "      <th>family_id</th>\n",
       "      <th>sequence_name</th>\n",
       "      <th>family_accession</th>\n",
       "      <th>aligned_sequence</th>\n",
       "      <th>sequence</th>\n",
       "      <th>seq_length</th>\n",
       "      <th>max_seq_identity</th>\n",
       "      <th>pfam_max_seq_identity</th>\n",
       "    </tr>\n",
       "  </thead>\n",
       "  <tbody>\n",
       "    <tr>\n",
       "      <th>0</th>\n",
       "      <td>DnaJ_C</td>\n",
       "      <td>M4V8X0_9PROT/126-339</td>\n",
       "      <td>PF01556.18</td>\n",
       "      <td>LRFITEIELEEVISG.K.E.....AQI......EF..............</td>\n",
       "      <td>LRFITEIELEEVISGKEAQIEFDTEANCDDCNGSGAAKGSSATTCP...</td>\n",
       "      <td>214</td>\n",
       "      <td>0.607477</td>\n",
       "      <td>PF01556.18</td>\n",
       "    </tr>\n",
       "    <tr>\n",
       "      <th>1</th>\n",
       "      <td>HisKA</td>\n",
       "      <td>Q55475_SYNY3/177-241</td>\n",
       "      <td>PF00512.25</td>\n",
       "      <td>QRRELVSDLTHELRSPLTVVRGYLEQ.L..AE.................</td>\n",
       "      <td>QRRELVSDLTHELRSPLTVVRGYLEQLAEGTIAGDPELYQRLVGET...</td>\n",
       "      <td>65</td>\n",
       "      <td>0.400000</td>\n",
       "      <td>PF00512.25</td>\n",
       "    </tr>\n",
       "    <tr>\n",
       "      <th>2</th>\n",
       "      <td>OppC_N</td>\n",
       "      <td>F7IVL3_TREDE/18-73</td>\n",
       "      <td>PF12911.7</td>\n",
       "      <td>SPA.QQI..R.....I...KFRNNRLAMMGFYMFVT.IVL.L.......</td>\n",
       "      <td>SPAQQIRIKFRNNRLAMMGFYMFVTIVLLVVVTHFYTKFTGYDFAK...</td>\n",
       "      <td>56</td>\n",
       "      <td>0.285714</td>\n",
       "      <td>PF12911.7</td>\n",
       "    </tr>\n",
       "    <tr>\n",
       "      <th>3</th>\n",
       "      <td>DUF1400</td>\n",
       "      <td>K9VGC5_9CYAN/34-159</td>\n",
       "      <td>PF07176.11</td>\n",
       "      <td>AAQTVVV.RKGIL.ESS...ISVADLRELAET...GKVPAKLQAYA...</td>\n",
       "      <td>AAQTVVVRKGILESSISVADLRELAETGKVPAKLQAYANLLSDEQR...</td>\n",
       "      <td>126</td>\n",
       "      <td>0.523810</td>\n",
       "      <td>PF07176.11</td>\n",
       "    </tr>\n",
       "    <tr>\n",
       "      <th>4</th>\n",
       "      <td>SpaA</td>\n",
       "      <td>R7KCV1_9CLOT/520-587</td>\n",
       "      <td>PF17802.1</td>\n",
       "      <td>KTNT..IL..AGATLKVI...NK..........................</td>\n",
       "      <td>KTNTILAGATLKVINKDTSEVIDTFVTTTTGHSIKGLKAGTYKVIE...</td>\n",
       "      <td>68</td>\n",
       "      <td>0.338235</td>\n",
       "      <td>PF17802.1</td>\n",
       "    </tr>\n",
       "  </tbody>\n",
       "</table>\n",
       "</div>"
      ],
      "text/plain": [
       "  family_id         sequence_name family_accession  \\\n",
       "0    DnaJ_C  M4V8X0_9PROT/126-339       PF01556.18   \n",
       "1     HisKA  Q55475_SYNY3/177-241       PF00512.25   \n",
       "2    OppC_N    F7IVL3_TREDE/18-73        PF12911.7   \n",
       "3   DUF1400   K9VGC5_9CYAN/34-159       PF07176.11   \n",
       "4      SpaA  R7KCV1_9CLOT/520-587        PF17802.1   \n",
       "\n",
       "                                    aligned_sequence  \\\n",
       "0  LRFITEIELEEVISG.K.E.....AQI......EF..............   \n",
       "1  QRRELVSDLTHELRSPLTVVRGYLEQ.L..AE.................   \n",
       "2  SPA.QQI..R.....I...KFRNNRLAMMGFYMFVT.IVL.L.......   \n",
       "3  AAQTVVV.RKGIL.ESS...ISVADLRELAET...GKVPAKLQAYA...   \n",
       "4  KTNT..IL..AGATLKVI...NK..........................   \n",
       "\n",
       "                                            sequence  seq_length  \\\n",
       "0  LRFITEIELEEVISGKEAQIEFDTEANCDDCNGSGAAKGSSATTCP...         214   \n",
       "1  QRRELVSDLTHELRSPLTVVRGYLEQLAEGTIAGDPELYQRLVGET...          65   \n",
       "2  SPAQQIRIKFRNNRLAMMGFYMFVTIVLLVVVTHFYTKFTGYDFAK...          56   \n",
       "3  AAQTVVVRKGILESSISVADLRELAETGKVPAKLQAYANLLSDEQR...         126   \n",
       "4  KTNTILAGATLKVINKDTSEVIDTFVTTTTGHSIKGLKAGTYKVIE...          68   \n",
       "\n",
       "   max_seq_identity pfam_max_seq_identity  \n",
       "0          0.607477            PF01556.18  \n",
       "1          0.400000            PF00512.25  \n",
       "2          0.285714             PF12911.7  \n",
       "3          0.523810            PF07176.11  \n",
       "4          0.338235             PF17802.1  "
      ]
     },
     "execution_count": 9,
     "metadata": {},
     "output_type": "execute_result"
    }
   ],
   "source": [
    "test_df.head()"
   ]
  },
  {
   "cell_type": "markdown",
   "id": "99b7efd5-26c6-4d71-aa95-87ec8a8e072c",
   "metadata": {},
   "source": [
    "## See how many mismatches there are, i.e. how many test sequences have their maximum identity match in the training dataset in a different Pfam. This will be our baseline maximum sequence identity classifier (MSIC) with the training set, i.e. the label of the sequence is predicted as the labels of the exampple of maximum sequence identity in the training set.\n",
    "Essentially, we can later see if our method performs better than this \"dummy\" classifier, whihch predicts the nearest neighbour in terms of sequence identity and we can see if the mistakes our model made"
   ]
  },
  {
   "cell_type": "code",
   "execution_count": 10,
   "id": "f5b92572-7095-40f7-b55b-6683c365dc83",
   "metadata": {
    "tags": []
   },
   "outputs": [],
   "source": [
    "test_df['misclassified_by_dummy_msic'] = test_df['family_accession'] != test_df['pfam_max_seq_identity']"
   ]
  },
  {
   "cell_type": "code",
   "execution_count": 11,
   "id": "42976101-6300-4786-bbd9-20005df355df",
   "metadata": {
    "tags": []
   },
   "outputs": [
    {
     "data": {
      "text/plain": [
       "3859"
      ]
     },
     "execution_count": 11,
     "metadata": {},
     "output_type": "execute_result"
    }
   ],
   "source": [
    "test_df['misclassified_by_dummy_msic'].sum() "
   ]
  },
  {
   "cell_type": "code",
   "execution_count": 12,
   "id": "aa457a81-ce49-40ff-8c55-4f1924303576",
   "metadata": {
    "tags": []
   },
   "outputs": [
    {
     "data": {
      "text/plain": [
       "0.05990654640855675"
      ]
     },
     "execution_count": 12,
     "metadata": {},
     "output_type": "execute_result"
    }
   ],
   "source": [
    "test_df['misclassified_by_dummy_msic'].sum()  / len(test_df)"
   ]
  },
  {
   "cell_type": "markdown",
   "id": "9824789e-9438-4bd5-8685-3639f0a4fa43",
   "metadata": {
    "tags": []
   },
   "source": [
    "## Essentially, this means that a maximum sequence identity classifier (MSIC) reaches a 6% error\n",
    "### We can check the distribution of maximum sequence identities of the misclassified samples compared to the overall maximum sequence identity distribution"
   ]
  },
  {
   "cell_type": "code",
   "execution_count": 13,
   "id": "7ed71a8f-40a5-44ba-b1aa-5809993765e9",
   "metadata": {
    "tags": []
   },
   "outputs": [
    {
     "data": {
      "text/plain": [
       "(array([0. , 0.2, 0.4, 0.6, 0.8, 1. , 1.2]),\n",
       " [Text(0, 0.0, '0.0'),\n",
       "  Text(0, 0.2, '0.2'),\n",
       "  Text(0, 0.4, '0.4'),\n",
       "  Text(0, 0.6000000000000001, '0.6'),\n",
       "  Text(0, 0.8, '0.8'),\n",
       "  Text(0, 1.0, '1.0'),\n",
       "  Text(0, 1.2000000000000002, '1.2')])"
      ]
     },
     "execution_count": 13,
     "metadata": {},
     "output_type": "execute_result"
    },
    {
     "data": {
      "image/png": "[encoded data removed]",
      "text/plain": [
       "<Figure size 1600x800 with 1 Axes>"
      ]
     },
     "metadata": {},
     "output_type": "display_data"
    }
   ],
   "source": [
    "fig, ax = plt.subplots(figsize = (16,8))\n",
    "sn.boxplot(data=test_df, y='max_seq_identity', x='misclassified_by_dummy_msic', ax=ax)\n",
    "plt.xlabel('Is Misclassified?', fontdict={'fontsize':14})\n",
    "plt.ylabel('Maximum Sequence Similarity with Training Set', fontdict={'fontsize':14})\n",
    "plt.title('Comparison of of Max Sequence Identities of Correctly Classified (False)\\nand Incorrectly Classfied Samples (True) for the MSIC', fontdict={'fontsize':14})\n",
    "plt.xticks(size=12)\n",
    "plt.yticks(size=12)"
   ]
  },
  {
   "cell_type": "markdown",
   "id": "f52fce75-c879-4203-99bc-56a00d68f99e",
   "metadata": {},
   "source": [
    "# Obviously, the misclassified samples by the MSIC have a low max sequence identity with the training set overall"
   ]
  },
  {
   "cell_type": "code",
   "execution_count": 14,
   "id": "5ab69a64-ba50-460f-8aa8-316fe978da0e",
   "metadata": {
    "tags": []
   },
   "outputs": [],
   "source": [
    "# Additionally, later we will need the confidences in prediction of the MSIC dummy,\n",
    "# which is the max sequence identity with the training set for every example\n",
    "prediction_confidences_msic = test_df['max_seq_identity'].values"
   ]
  },
  {
   "cell_type": "markdown",
   "id": "ed9eb752-b5b6-4094-9104-47eabe36d3e7",
   "metadata": {},
   "source": [
    "## Load the test data that was obtained previously to conduct inference and analysis of the results"
   ]
  },
  {
   "cell_type": "code",
   "execution_count": 15,
   "id": "8ecaf02f-2793-4350-beda-45022dcc28b3",
   "metadata": {
    "tags": []
   },
   "outputs": [],
   "source": [
    "with open('sparse_one_hot_data/test.pkl', 'rb') as f:\n",
    "    one_hot_sequences_test = pickle.load(f)\n",
    "with open('sparse_one_hot_data/test_labels.pkl', 'rb') as f:\n",
    "    one_hot_labels_test = pickle.load(f)"
   ]
  },
  {
   "cell_type": "code",
   "execution_count": 16,
   "id": "35e23209-e8c9-4cfa-82ca-f97d225d5369",
   "metadata": {
    "tags": []
   },
   "outputs": [],
   "source": [
    "with open('hparams.json', 'r') as json_file:\n",
    "    hparams = json.load(json_file)"
   ]
  },
  {
   "cell_type": "code",
   "execution_count": 17,
   "id": "ee66b32f-0128-43ad-8bfb-9ca579e5ba40",
   "metadata": {
    "tags": []
   },
   "outputs": [
    {
     "data": {
      "text/plain": [
       "(64417,)"
      ]
     },
     "execution_count": 17,
     "metadata": {},
     "output_type": "execute_result"
    }
   ],
   "source": [
    "one_hot_sequences_test.shape"
   ]
  },
  {
   "cell_type": "markdown",
   "id": "5f2910cb-b414-4662-9e72-fdbdc559ded2",
   "metadata": {},
   "source": [
    "## Normally, for inference the loader would not be necessary, but we need it because the data is in sparse format and we need to unpack it\n",
    "Obviously, there are ways to skip the loader in this case, too but the number of lines of code is similar "
   ]
  },
  {
   "cell_type": "code",
   "execution_count": 18,
   "id": "84ce6a84-7b77-43ec-b446-ad3e15e4da7a",
   "metadata": {
    "tags": []
   },
   "outputs": [],
   "source": [
    "test_ds = OneHotDataset(one_hot_sequences_test, one_hot_labels_test)\n",
    "test_dl = DataLoader(test_ds, batch_size=hparams['batch_size']) # it is essential that we don't shuffle as later the indices will be important"
   ]
  },
  {
   "cell_type": "code",
   "execution_count": 19,
   "id": "f78331f4-dc27-4232-afe8-c76156958a90",
   "metadata": {
    "tags": []
   },
   "outputs": [],
   "source": [
    "# the inference here will be local, but still get the device in the usual way\n",
    "device = torch.device(\"cuda:0\" if torch.cuda.is_available() else \"cpu\")"
   ]
  },
  {
   "cell_type": "code",
   "execution_count": 20,
   "id": "e336bb8b-6d6d-4dab-b0d9-ca0a905d5b0b",
   "metadata": {
    "tags": []
   },
   "outputs": [],
   "source": [
    "model = Model(in_channels=one_hot_sequences_test[0].shape[1],\n",
    "              out_channels=hparams['filters'],\n",
    "              input_length=one_hot_sequences_test[0].shape[0],\n",
    "             out_features=one_hot_labels_test.shape[1]).to(device)"
   ]
  },
  {
   "cell_type": "markdown",
   "id": "20b20fa5-1958-46a0-acaf-949b9a4908cc",
   "metadata": {},
   "source": [
    "## Load the trained model (trained in Kaggle)"
   ]
  },
  {
   "cell_type": "code",
   "execution_count": 21,
   "id": "7d1de97a-7e58-41c8-8ef0-22039cacf111",
   "metadata": {
    "tags": []
   },
   "outputs": [
    {
     "data": {
      "text/plain": [
       "<All keys matched successfully>"
      ]
     },
     "execution_count": 21,
     "metadata": {},
     "output_type": "execute_result"
    }
   ],
   "source": [
    "model.load_state_dict(torch.load('trained_model/best_model_filters_100.pt', map_location=device))"
   ]
  },
  {
   "cell_type": "markdown",
   "id": "dd8fdddc-7d9a-42bd-870a-8bc137a9f1d0",
   "metadata": {},
   "source": [
    "## Redefine the training step because we want to return also the predictions and analyse them"
   ]
  },
  {
   "cell_type": "code",
   "execution_count": 22,
   "id": "4e37b719-f89d-47aa-a44d-0537ce6b9255",
   "metadata": {
    "tags": []
   },
   "outputs": [],
   "source": [
    "def test_step(model: nn.Module,\n",
    "              loader: DataLoader,\n",
    "              device: torch.device) -> Tuple[np.ndarray, np.ndarray]:\n",
    "    \"\"\"\n",
    "    Evaluate the model on the given data for one epoch.\n",
    "\n",
    "    Args:\n",
    "        model (nn.Module): the neural network model to be evaluated\n",
    "        loader (data.DataLoader): the data loader object that provides the test data\n",
    "        device (torch.device): the device where the computation is performed (CPU or GPU)\n",
    "\n",
    "    Returns:\n",
    "        The true labels and predictions.\n",
    "    \"\"\"\n",
    "\n",
    "    model.eval()  # set the model in evaluation mode\n",
    "    labels = []\n",
    "    predictions = []\n",
    "    with torch.no_grad():\n",
    "        for i, (batch_oh_sequences, batch_oh_labels) in tqdm(enumerate(loader)):\n",
    "            # move the batch data to the device\n",
    "            batch_oh_sequences = batch_oh_sequences.permute(0, 2, 1).to(device=device)\n",
    "            batch_oh_labels = torch.squeeze(batch_oh_labels, dim=1)\n",
    "            # forward pass\n",
    "            preds = model(batch_oh_sequences)\n",
    "            \n",
    "            labels.append(batch_oh_labels.cpu().numpy())\n",
    "            predictions.append(preds.cpu().numpy())\n",
    "\n",
    "    return np.concatenate(labels, axis=0), np.concatenate(predictions, axis=0)"
   ]
  },
  {
   "cell_type": "code",
   "execution_count": 23,
   "id": "b1872300-a648-4f40-ac37-323a880e6f13",
   "metadata": {
    "tags": []
   },
   "outputs": [
    {
     "data": {
      "application/vnd.jupyter.widget-view+json": {
       "model_id": "3a26a35b2234442ba15740adfa93d61d",
       "version_major": 2,
       "version_minor": 0
      },
      "text/plain": [
       "0it [00:00, ?it/s]"
      ]
     },
     "metadata": {},
     "output_type": "display_data"
    }
   ],
   "source": [
    "labels, predictions = test_step(model, test_dl, device)"
   ]
  },
  {
   "cell_type": "code",
   "execution_count": 24,
   "id": "fd8189a5-49a7-42fd-8034-e0573a36449b",
   "metadata": {
    "tags": []
   },
   "outputs": [
    {
     "data": {
      "text/plain": [
       "((64417, 1616), (64417, 1616))"
      ]
     },
     "execution_count": 24,
     "metadata": {},
     "output_type": "execute_result"
    }
   ],
   "source": [
    "labels.shape, predictions.shape"
   ]
  },
  {
   "cell_type": "markdown",
   "id": "761d7ac0-7ce2-4549-be82-29f82d61dc4b",
   "metadata": {},
   "source": [
    "## As a first step - get the overall accuracy\n",
    "### To do this, first convert the predictions to binary"
   ]
  },
  {
   "cell_type": "code",
   "execution_count": 25,
   "id": "29765270-4c2a-4c8b-a9f8-c64b55d5dbd6",
   "metadata": {
    "tags": []
   },
   "outputs": [],
   "source": [
    "binary_predictions = np.array([np.where(pred == np.max(pred), 1., 0.) for pred in predictions])"
   ]
  },
  {
   "cell_type": "code",
   "execution_count": 26,
   "id": "d93f9e48-7a43-4824-86bb-d806467cf9e1",
   "metadata": {
    "tags": []
   },
   "outputs": [
    {
     "data": {
      "text/plain": [
       "(64417, 1616)"
      ]
     },
     "execution_count": 26,
     "metadata": {},
     "output_type": "execute_result"
    }
   ],
   "source": [
    "binary_predictions.shape"
   ]
  },
  {
   "cell_type": "code",
   "execution_count": 27,
   "id": "1ac02443-620b-4a37-bd4e-ddffe5775f44",
   "metadata": {
    "tags": []
   },
   "outputs": [
    {
     "data": {
      "text/plain": [
       "0.9687504851203875"
      ]
     },
     "execution_count": 27,
     "metadata": {},
     "output_type": "execute_result"
    }
   ],
   "source": [
    "accuracy_score(labels, binary_predictions)"
   ]
  },
  {
   "cell_type": "markdown",
   "id": "6bfec1b0-0457-4564-b734-92e10bf4322d",
   "metadata": {
    "tags": []
   },
   "source": [
    "## This means we have a 96.9% accuracy on the test set overall. This means our model has 3.1% error rate which is lower than that of the MSIC dummy classifier (above), but we need to determine whether this difference is statistically significant."
   ]
  },
  {
   "cell_type": "code",
   "execution_count": 28,
   "id": "99b111dd-57df-46bc-ae20-72a1d5614182",
   "metadata": {
    "tags": []
   },
   "outputs": [],
   "source": [
    "# get the prediction scores that our model gives\n",
    "prediction_confidences = np.max(predictions, axis=1)"
   ]
  },
  {
   "cell_type": "code",
   "execution_count": 29,
   "id": "da044df4-2f8e-4c6b-8147-ca3960aab194",
   "metadata": {
    "tags": []
   },
   "outputs": [],
   "source": [
    "# conduct a t-test to see if the two models are statistically significantly different\n",
    "t_test, p_val = stats.ttest_rel(prediction_confidences, prediction_confidences_msic)"
   ]
  },
  {
   "cell_type": "code",
   "execution_count": 30,
   "id": "bb29dea6-d493-4727-9eea-e14944f14947",
   "metadata": {
    "tags": []
   },
   "outputs": [
    {
     "name": "stdout",
     "output_type": "stream",
     "text": [
      "The value of the t-test is:  542.4978509738828  and its p-value is:  0.0\n"
     ]
    }
   ],
   "source": [
    "print('The value of the t-test is: ', t_test,  ' and its p-value is: ',  p_val)"
   ]
  },
  {
   "cell_type": "markdown",
   "id": "a54b2ba5-680d-4e35-89fd-3f6d55f2f6a1",
   "metadata": {},
   "source": [
    "### Essentially, this means that the model did not turn into the dummy classifier. However, we still need to determine whether the difference in errors between the two is stitistically significant. We can do this via a McNemar test (as in Bileschi et al.)."
   ]
  },
  {
   "cell_type": "markdown",
   "id": "a4de9aca-8195-400a-95bd-18e95ed15e80",
   "metadata": {},
   "source": [
    "The McNemar test is a statistical significance test used to compare two paired proportions (the corresponding chi-square test for paired data). It is often used to compare the performance of two classifiers on the same dataset. The test is based on a contingency table with two rows and two columns. The first row represents the number of instances that were classified correctly by the first classifier but not by the second, while the second row represents the number of instances that were classified correctly by the second classifier but not by the first. The test evaluates whether there is a significant difference between these two proportions.\n",
    "\n",
    "The null hypothesis of the McNemar test is that the two classifiers have the same proportion of correct classifications. The alternative hypothesis is that the two classifiers have different proportions of correct classifications. The test statistic for McNemar's test is calculated as follows:"
   ]
  },
  {
   "cell_type": "code",
   "execution_count": 31,
   "id": "c02b3b76-4324-4a85-8600-91b481138977",
   "metadata": {
    "tags": []
   },
   "outputs": [],
   "source": [
    "# the contingency table will have corrctly and incorrectly classified by both on the diagonal and the different ones on the off-diagonal\n",
    "# Thus, first get the predictions by the model in a dataframe with the \"misclassified\" column\n",
    "predicted_family_idx = prediction_confidences = np.argmax(predictions, axis=1)\n",
    "predicted_pfam = np.array([index_to_family_label_dict[idx] for idx in predicted_family_idx])"
   ]
  },
  {
   "cell_type": "code",
   "execution_count": 32,
   "id": "acfa5f5b-4125-4d10-ba88-2f82146e39a2",
   "metadata": {
    "tags": []
   },
   "outputs": [],
   "source": [
    "test_df['model_prediction'] = predicted_pfam"
   ]
  },
  {
   "cell_type": "code",
   "execution_count": 33,
   "id": "0000c896-ad3b-4f25-a673-fa583e069faf",
   "metadata": {
    "tags": []
   },
   "outputs": [],
   "source": [
    "# get a column with misclassifications by the model\n",
    "test_df['misclassified_by_model'] = test_df['model_prediction'] != test_df['family_accession']"
   ]
  },
  {
   "cell_type": "code",
   "execution_count": 34,
   "id": "59d672cb-f7ce-4ef7-baff-3bd608f9feae",
   "metadata": {
    "tags": []
   },
   "outputs": [
    {
     "data": {
      "text/plain": [
       "2013"
      ]
     },
     "execution_count": 34,
     "metadata": {},
     "output_type": "execute_result"
    }
   ],
   "source": [
    "# number of misclassifications by model\n",
    "test_df['misclassified_by_model'].sum()"
   ]
  },
  {
   "cell_type": "code",
   "execution_count": 35,
   "id": "c58c83df-99db-4263-9fbd-d3ec9ce205cf",
   "metadata": {
    "tags": []
   },
   "outputs": [
    {
     "data": {
      "text/html": [
       "<div>\n",
       "<style scoped>\n",
       "    .dataframe tbody tr th:only-of-type {\n",
       "        vertical-align: middle;\n",
       "    }\n",
       "\n",
       "    .dataframe tbody tr th {\n",
       "        vertical-align: top;\n",
       "    }\n",
       "\n",
       "    .dataframe thead th {\n",
       "        text-align: right;\n",
       "    }\n",
       "</style>\n",
       "<table border=\"1\" class=\"dataframe\">\n",
       "  <thead>\n",
       "    <tr style=\"text-align: right;\">\n",
       "      <th></th>\n",
       "      <th>family_id</th>\n",
       "      <th>sequence_name</th>\n",
       "      <th>family_accession</th>\n",
       "      <th>aligned_sequence</th>\n",
       "      <th>sequence</th>\n",
       "      <th>seq_length</th>\n",
       "      <th>max_seq_identity</th>\n",
       "      <th>pfam_max_seq_identity</th>\n",
       "      <th>misclassified_by_dummy_msic</th>\n",
       "      <th>model_prediction</th>\n",
       "      <th>misclassified_by_model</th>\n",
       "    </tr>\n",
       "  </thead>\n",
       "  <tbody>\n",
       "    <tr>\n",
       "      <th>0</th>\n",
       "      <td>DnaJ_C</td>\n",
       "      <td>M4V8X0_9PROT/126-339</td>\n",
       "      <td>PF01556.18</td>\n",
       "      <td>LRFITEIELEEVISG.K.E.....AQI......EF..............</td>\n",
       "      <td>LRFITEIELEEVISGKEAQIEFDTEANCDDCNGSGAAKGSSATTCP...</td>\n",
       "      <td>214</td>\n",
       "      <td>0.607477</td>\n",
       "      <td>PF01556.18</td>\n",
       "      <td>False</td>\n",
       "      <td>PF01556.18</td>\n",
       "      <td>False</td>\n",
       "    </tr>\n",
       "    <tr>\n",
       "      <th>1</th>\n",
       "      <td>HisKA</td>\n",
       "      <td>Q55475_SYNY3/177-241</td>\n",
       "      <td>PF00512.25</td>\n",
       "      <td>QRRELVSDLTHELRSPLTVVRGYLEQ.L..AE.................</td>\n",
       "      <td>QRRELVSDLTHELRSPLTVVRGYLEQLAEGTIAGDPELYQRLVGET...</td>\n",
       "      <td>65</td>\n",
       "      <td>0.400000</td>\n",
       "      <td>PF00512.25</td>\n",
       "      <td>False</td>\n",
       "      <td>PF00512.25</td>\n",
       "      <td>False</td>\n",
       "    </tr>\n",
       "    <tr>\n",
       "      <th>2</th>\n",
       "      <td>OppC_N</td>\n",
       "      <td>F7IVL3_TREDE/18-73</td>\n",
       "      <td>PF12911.7</td>\n",
       "      <td>SPA.QQI..R.....I...KFRNNRLAMMGFYMFVT.IVL.L.......</td>\n",
       "      <td>SPAQQIRIKFRNNRLAMMGFYMFVTIVLLVVVTHFYTKFTGYDFAK...</td>\n",
       "      <td>56</td>\n",
       "      <td>0.285714</td>\n",
       "      <td>PF12911.7</td>\n",
       "      <td>False</td>\n",
       "      <td>PF12911.7</td>\n",
       "      <td>False</td>\n",
       "    </tr>\n",
       "    <tr>\n",
       "      <th>3</th>\n",
       "      <td>DUF1400</td>\n",
       "      <td>K9VGC5_9CYAN/34-159</td>\n",
       "      <td>PF07176.11</td>\n",
       "      <td>AAQTVVV.RKGIL.ESS...ISVADLRELAET...GKVPAKLQAYA...</td>\n",
       "      <td>AAQTVVVRKGILESSISVADLRELAETGKVPAKLQAYANLLSDEQR...</td>\n",
       "      <td>126</td>\n",
       "      <td>0.523810</td>\n",
       "      <td>PF07176.11</td>\n",
       "      <td>False</td>\n",
       "      <td>PF07176.11</td>\n",
       "      <td>False</td>\n",
       "    </tr>\n",
       "    <tr>\n",
       "      <th>4</th>\n",
       "      <td>SpaA</td>\n",
       "      <td>R7KCV1_9CLOT/520-587</td>\n",
       "      <td>PF17802.1</td>\n",
       "      <td>KTNT..IL..AGATLKVI...NK..........................</td>\n",
       "      <td>KTNTILAGATLKVINKDTSEVIDTFVTTTTGHSIKGLKAGTYKVIE...</td>\n",
       "      <td>68</td>\n",
       "      <td>0.338235</td>\n",
       "      <td>PF17802.1</td>\n",
       "      <td>False</td>\n",
       "      <td>PF17802.1</td>\n",
       "      <td>False</td>\n",
       "    </tr>\n",
       "  </tbody>\n",
       "</table>\n",
       "</div>"
      ],
      "text/plain": [
       "  family_id         sequence_name family_accession  \\\n",
       "0    DnaJ_C  M4V8X0_9PROT/126-339       PF01556.18   \n",
       "1     HisKA  Q55475_SYNY3/177-241       PF00512.25   \n",
       "2    OppC_N    F7IVL3_TREDE/18-73        PF12911.7   \n",
       "3   DUF1400   K9VGC5_9CYAN/34-159       PF07176.11   \n",
       "4      SpaA  R7KCV1_9CLOT/520-587        PF17802.1   \n",
       "\n",
       "                                    aligned_sequence  \\\n",
       "0  LRFITEIELEEVISG.K.E.....AQI......EF..............   \n",
       "1  QRRELVSDLTHELRSPLTVVRGYLEQ.L..AE.................   \n",
       "2  SPA.QQI..R.....I...KFRNNRLAMMGFYMFVT.IVL.L.......   \n",
       "3  AAQTVVV.RKGIL.ESS...ISVADLRELAET...GKVPAKLQAYA...   \n",
       "4  KTNT..IL..AGATLKVI...NK..........................   \n",
       "\n",
       "                                            sequence  seq_length  \\\n",
       "0  LRFITEIELEEVISGKEAQIEFDTEANCDDCNGSGAAKGSSATTCP...         214   \n",
       "1  QRRELVSDLTHELRSPLTVVRGYLEQLAEGTIAGDPELYQRLVGET...          65   \n",
       "2  SPAQQIRIKFRNNRLAMMGFYMFVTIVLLVVVTHFYTKFTGYDFAK...          56   \n",
       "3  AAQTVVVRKGILESSISVADLRELAETGKVPAKLQAYANLLSDEQR...         126   \n",
       "4  KTNTILAGATLKVINKDTSEVIDTFVTTTTGHSIKGLKAGTYKVIE...          68   \n",
       "\n",
       "   max_seq_identity pfam_max_seq_identity  misclassified_by_dummy_msic  \\\n",
       "0          0.607477            PF01556.18                        False   \n",
       "1          0.400000            PF00512.25                        False   \n",
       "2          0.285714             PF12911.7                        False   \n",
       "3          0.523810            PF07176.11                        False   \n",
       "4          0.338235             PF17802.1                        False   \n",
       "\n",
       "  model_prediction  misclassified_by_model  \n",
       "0       PF01556.18                   False  \n",
       "1       PF00512.25                   False  \n",
       "2        PF12911.7                   False  \n",
       "3       PF07176.11                   False  \n",
       "4        PF17802.1                   False  "
      ]
     },
     "execution_count": 35,
     "metadata": {},
     "output_type": "execute_result"
    }
   ],
   "source": [
    "test_df.head()"
   ]
  },
  {
   "cell_type": "code",
   "execution_count": 36,
   "id": "6b2fcb63-4674-4cb9-bf07-eacb3ef7668a",
   "metadata": {
    "tags": []
   },
   "outputs": [],
   "source": [
    "bins = [0, 0.1, 0.2, 0.3, 0.4, 0.5, 0.6, 0.7, 0.8, 0.9, 1.0]\n",
    "bin_labels = ['0%-10%', '10%-20%', '20%-30%', '30%-40%', '40%-50%', '50%-60%', '60%-70%', '70%-80%', '80%-90%', '90%-100%']\n",
    "test_df['binned_seq_identities'] = pd.cut(test_df['max_seq_identity'], bins, labels=bin_labels)"
   ]
  },
  {
   "cell_type": "markdown",
   "id": "e38790b3-a614-43f1-a833-c7dc09222a3a",
   "metadata": {
    "tags": []
   },
   "source": [
    "## Get the error rate per bin for both"
   ]
  },
  {
   "cell_type": "code",
   "execution_count": 37,
   "id": "54e226dd-01bc-48e2-923e-1defc8b71c8f",
   "metadata": {
    "tags": []
   },
   "outputs": [],
   "source": [
    "def get_error_rate_per_bin(df: pd.DataFrame,\n",
    "                           bin_column: str,\n",
    "                           misclassified_col: str) -> Dict[str, float]:\n",
    "    \"\"\"Computes the error rate per bin for a given DataFrame.\n",
    "\n",
    "    Args:\n",
    "        df (pd.DataFrame): Must have misclassifications and binned sequence identity columns already created.\n",
    "        bin_column (str): The column name of the binned sequence identity variable in the DataFrame.\n",
    "        misclassified_col (str): The column name of the binary variable that indicates whether a sample is misclassified.\n",
    "\n",
    "    Returns:\n",
    "        bin_label_to_error_rates (dict): A dictionary mapping each bin label to its error rate.\n",
    "    \"\"\"\n",
    "    # Get the unique bin labels from the bin_column, sorting works well for the current string labelling\n",
    "    bin_labels = sorted(df[bin_column].unique())\n",
    "    \n",
    "    # Compute the error rate for each bin\n",
    "    bin_label_to_error_rates = {}\n",
    "    for bin_label in bin_labels:\n",
    "        tmp_df = df.loc[df[bin_column] == bin_label]\n",
    "        error_rate = sum(tmp_df[misclassified_col]) / len(tmp_df)\n",
    "        bin_label_to_error_rates[bin_label] = error_rate\n",
    "    \n",
    "    return bin_label_to_error_rates"
   ]
  },
  {
   "cell_type": "code",
   "execution_count": 38,
   "id": "e81742b3-a515-43d2-aa6d-f3a3ff0f8df9",
   "metadata": {
    "tags": []
   },
   "outputs": [],
   "source": [
    "model_error_rate_per_bin = get_error_rate_per_bin(test_df, 'binned_seq_identities', 'misclassified_by_model')"
   ]
  },
  {
   "cell_type": "code",
   "execution_count": 39,
   "id": "99bb9ca6-8c06-43de-8d2b-309251d31851",
   "metadata": {
    "tags": []
   },
   "outputs": [],
   "source": [
    "msic_dummy_error_rate_per_bin = get_error_rate_per_bin(test_df, 'binned_seq_identities', 'misclassified_by_dummy_msic')"
   ]
  },
  {
   "cell_type": "code",
   "execution_count": 40,
   "id": "946a46d5-d5cd-4003-97e7-8fd061c4039a",
   "metadata": {
    "tags": []
   },
   "outputs": [
    {
     "data": {
      "image/png": "[encoded data removed]",
      "text/plain": [
       "<Figure size 1600x800 with 1 Axes>"
      ]
     },
     "metadata": {},
     "output_type": "display_data"
    }
   ],
   "source": [
    "fig, ax = plt.subplots(figsize = (16,8))\n",
    "sn.lineplot(y=model_error_rate_per_bin.values(), x=model_error_rate_per_bin.keys(), label='Model')\n",
    "sn.lineplot(y=msic_dummy_error_rate_per_bin.values(), x=msic_dummy_error_rate_per_bin.keys(), label='Dummy MSIC')\n",
    "plt.xlabel('Maximum percent sequence identity bin with training set', fontdict={'fontsize':14})\n",
    "plt.ylabel('Error rate', fontdict={'fontsize':14})\n",
    "plt.title('Error rate by maximum sequence identity to training dataset', fontdict={'fontsize':14})\n",
    "plt.legend(fontsize=12, title_fontsize=12)\n",
    "plt.xticks(size=12)\n",
    "plt.yticks(size=12)\n",
    "plt.tight_layout()"
   ]
  },
  {
   "cell_type": "code",
   "execution_count": 41,
   "id": "76442391-fb99-47b1-ba91-db916e5d7e87",
   "metadata": {
    "tags": []
   },
   "outputs": [],
   "source": [
    "def get_contingency_table(df: pd.DataFrame,\n",
    "                          key_misclassified_by_model: str = 'misclassified_by_model',\n",
    "                          key_misclassified_by_benchmark: str = 'misclassified_by_dummy_msic') -> np.ndarray:\n",
    "    \"\"\"\n",
    "    Constructs a contingency table from a dataframe with misclassification columns.\n",
    "    \n",
    "    Args:\n",
    "     df (pd.DataFrame): The input data.\n",
    "     key_misclassified_by_model (str): The column key for the misclassified by a proposed model field in df.\n",
    "     key_misclassified_by_benchmark (str): The column key for the misclassified by the benchmark model field in df.\n",
    "    \n",
    "    Returns:\n",
    "     contingency_table (np.ndarray): A 2x2 numpy array containing the contingency table.\n",
    "    \"\"\"\n",
    "    \n",
    "    # Create boolean masks for each possible combination of correct/incorrect classification.\n",
    "    both_correct = ~df[key_misclassified_by_model] & ~df[key_misclassified_by_benchmark]\n",
    "    both_incorrect = df[key_misclassified_by_model] & df[key_misclassified_by_benchmark]\n",
    "    model_correct_only = ~df[key_misclassified_by_model] & df[key_misclassified_by_benchmark]\n",
    "    dummy_correct_only = df[key_misclassified_by_model] & ~df[key_misclassified_by_benchmark]\n",
    "    \n",
    "    # Initialize the contingency table with zeros.\n",
    "    contingency_table = np.zeros(shape=[2, 2])\n",
    "    \n",
    "    # Fill in the contingency table.\n",
    "    contingency_table[0, 0] = len(df.loc[both_correct])\n",
    "    contingency_table[0, 1] = len(df.loc[model_correct_only])\n",
    "    contingency_table[1, 0] = len(df.loc[dummy_correct_only])\n",
    "    contingency_table[1, 1] = len(df.loc[both_incorrect])\n",
    "    \n",
    "    return contingency_table"
   ]
  },
  {
   "cell_type": "code",
   "execution_count": 42,
   "id": "0ee07e36-3cf6-4e8f-9f17-5580905033f6",
   "metadata": {
    "tags": []
   },
   "outputs": [],
   "source": [
    "def get_p_value_of_mcnemar(contingency_table: np.ndarray) -> float:\n",
    "    \"\"\"\n",
    "    Compute the p-value for the McNemar test given a 2x2 contingency table.\n",
    "\n",
    "    Parameters:\n",
    "     contingency_table (np.ndarray): A 2x2 contingency table.\n",
    "\n",
    "    Returns:\n",
    "     p_value_of_two_sided_mcnemar (float): The p-value for the McNemar test.\n",
    "\n",
    "    \"\"\"\n",
    "    b = contingency_table[0, 1]\n",
    "    c = contingency_table[1, 0]\n",
    "\n",
    "    mcnemar_test_statistic_value = ((b-c) ** 2) / (b + c)\n",
    "\n",
    "    # two-sided because the difference is squared, so we will only see if the difference is significant\n",
    "    # not in favour of whom. We will see which is better in the plots\n",
    "    p_value_of_two_sided_mcnemar = 1 - stats.chi2.cdf(mcnemar_test_statistic_value, 1)\n",
    "\n",
    "    return p_value_of_two_sided_mcnemar"
   ]
  },
  {
   "cell_type": "code",
   "execution_count": 43,
   "id": "2a870d2b-07a0-4d06-93ad-230fb72b5f1c",
   "metadata": {
    "tags": []
   },
   "outputs": [],
   "source": [
    "def get_statistical_significance_of_difference_per_bin(\n",
    "    df: pd.DataFrame,\n",
    "    bin_column: str,\n",
    "    key_misclassified_by_model: str,\n",
    "    key_misclassified_by_benchmark: str) -> Tuple[Dict[str, float], Dict[str, int]]:\n",
    "    \"\"\"\n",
    "    Calculate statistical significance of the difference between the model and benchmark\n",
    "    misclassifications within each bin using McNemar's test.\n",
    "    \n",
    "    Args:\n",
    "     df (pd.DataFrame): containing the data\n",
    "     bin_column (str): name of the column containing the bin labels\n",
    "     key_misclassified_by_model (str): name of the column containing model misclassification labels\n",
    "     key_misclassified_by_benchmark (str): name of the column containing benchmark misclassification labels\n",
    "        \n",
    "    Returns:\n",
    "     bin_label_to_p_val (dict): dictionary mapping bin labels to p-values for McNemar's test\n",
    "     num_of_examples_considered (dict): dictionary mapping bin labels to the number of examples in that bin\n",
    "    \"\"\"\n",
    "    # Get unique bin labels\n",
    "    bin_labels = sorted(df[bin_column].unique())\n",
    "    \n",
    "    # Initialize dictionaries to store results\n",
    "    bin_label_to_p_val = {}\n",
    "    num_of_examples_considered = {}\n",
    "    \n",
    "    # Loop over each bin label\n",
    "    for bin_label in bin_labels:\n",
    "        tmp_df = df.loc[df[bin_column] == bin_label]\n",
    "        \n",
    "        # Get contingency table for McNemar's test\n",
    "        cont_table = get_contingency_table(tmp_df, key_misclassified_by_model, key_misclassified_by_benchmark)\n",
    "        \n",
    "        # Calculate p-value for McNemar's test\n",
    "        bin_label_to_p_val[bin_label] = get_p_value_of_mcnemar(cont_table)\n",
    "        \n",
    "        # Store number of examples considered for this bin\n",
    "        num_of_examples_considered[bin_label] = len(tmp_df)\n",
    "        \n",
    "    return bin_label_to_p_val, num_of_examples_considered"
   ]
  },
  {
   "cell_type": "code",
   "execution_count": 44,
   "id": "e74cc3ee-5dd6-4b3d-a8f8-1a3355f2337c",
   "metadata": {
    "tags": []
   },
   "outputs": [],
   "source": [
    "bin_label_to_p_val, num_of_examples_considered =\\\n",
    "    get_statistical_significance_of_difference_per_bin(test_df, 'binned_seq_identities', 'misclassified_by_model', 'misclassified_by_dummy_msic')"
   ]
  },
  {
   "cell_type": "code",
   "execution_count": 45,
   "id": "52c2a569-f83d-447e-b655-5fa592dccfe2",
   "metadata": {
    "tags": []
   },
   "outputs": [
    {
     "name": "stdout",
     "output_type": "stream",
     "text": [
      "For the bin:  0%-10%  the p-value of the two-sided McNemar test is  0.0  this is for  66  sequences\n",
      "For the bin:  10%-20%  the p-value of the two-sided McNemar test is  0.0  this is for  6548  sequences\n",
      "For the bin:  20%-30%  the p-value of the two-sided McNemar test is  0.3809  this is for  5266  sequences\n",
      "For the bin:  30%-40%  the p-value of the two-sided McNemar test is  0.0  this is for  5748  sequences\n",
      "For the bin:  40%-50%  the p-value of the two-sided McNemar test is  0.0  this is for  7426  sequences\n",
      "For the bin:  50%-60%  the p-value of the two-sided McNemar test is  0.0  this is for  8950  sequences\n",
      "For the bin:  60%-70%  the p-value of the two-sided McNemar test is  0.0  this is for  11628  sequences\n",
      "For the bin:  70%-80%  the p-value of the two-sided McNemar test is  0.0  this is for  17459  sequences\n",
      "For the bin:  80%-90%  the p-value of the two-sided McNemar test is  0.0  this is for  1172  sequences\n",
      "For the bin:  90%-100%  the p-value of the two-sided McNemar test is  0.0001  this is for  154  sequences\n"
     ]
    }
   ],
   "source": [
    "for bin_label in bin_label_to_p_val.keys():\n",
    "    print('For the bin: ', bin_label, ' the p-value of the two-sided McNemar test is ',\\\n",
    "      round(bin_label_to_p_val[bin_label], 4), ' this is for ', num_of_examples_considered[bin_label], ' sequences')"
   ]
  },
  {
   "cell_type": "markdown",
   "id": "97e5a8fd-98fa-4fb5-9415-31b5b5a7982b",
   "metadata": {},
   "source": [
    "## Hence, all the differences are significant, except for the 20%-30% sequence identity bin. Moreover, the model is only significantly better in the cases where the max sequence identity is lowest. Essentially, this means that the model was able to actually capture more than just the sequence identity. However, it seems that it makes poorer predictions when the sequences become more similar to those in the training set. This may indicate that the model is underfitting, because it hasn't been able to capture a relationship such as the maximum percent sequence identity, even though it has captured other dependencies. On top of that, the curve for the model is quite smooth - again pointing to the same conclusion, but more importantly, it increases in the bin with the highest sequence identity (to basically the same value as the lowest identity bins), which again points to the model missing a relationship which is so obvious to us.\n",
    "\n",
    "### Otherwise, the plot looks as expected, as both make better predictions when the similarity to the training set is higher (except for the last bin as discussed above)."
   ]
  },
  {
   "cell_type": "code",
   "execution_count": null,
   "id": "a2dd383d-47b7-4681-9fb1-56124a1e95ab",
   "metadata": {},
   "outputs": [],
   "source": []
  },
  {
   "cell_type": "markdown",
   "id": "f9d1be40-bd0f-4a2e-97ee-5c3fc3886c11",
   "metadata": {},
   "source": [
    "## However, why did we get 3.1% of the labels wrong? Where did our model make mistakes? Need to work on explainability. One way to do this is via a method such as CAM (10.1109/CVPR.2016.319). However, time is quite limited now, so I will try something simpler."
   ]
  },
  {
   "cell_type": "markdown",
   "id": "d903999b-a719-4493-966a-87fe60484bb7",
   "metadata": {},
   "source": [
    "Let's see if there is any pattern between the misclassifications"
   ]
  },
  {
   "cell_type": "code",
   "execution_count": 46,
   "id": "3a8eed3c-700e-492a-9560-9e67ee3d1cb4",
   "metadata": {
    "tags": []
   },
   "outputs": [
    {
     "data": {
      "text/html": [
       "<div>\n",
       "<style scoped>\n",
       "    .dataframe tbody tr th:only-of-type {\n",
       "        vertical-align: middle;\n",
       "    }\n",
       "\n",
       "    .dataframe tbody tr th {\n",
       "        vertical-align: top;\n",
       "    }\n",
       "\n",
       "    .dataframe thead th {\n",
       "        text-align: right;\n",
       "    }\n",
       "</style>\n",
       "<table border=\"1\" class=\"dataframe\">\n",
       "  <thead>\n",
       "    <tr style=\"text-align: right;\">\n",
       "      <th></th>\n",
       "      <th>family_id</th>\n",
       "      <th>sequence_name</th>\n",
       "      <th>family_accession</th>\n",
       "      <th>aligned_sequence</th>\n",
       "      <th>sequence</th>\n",
       "      <th>seq_length</th>\n",
       "      <th>max_seq_identity</th>\n",
       "      <th>pfam_max_seq_identity</th>\n",
       "      <th>misclassified_by_dummy_msic</th>\n",
       "      <th>model_prediction</th>\n",
       "      <th>misclassified_by_model</th>\n",
       "      <th>binned_seq_identities</th>\n",
       "    </tr>\n",
       "  </thead>\n",
       "  <tbody>\n",
       "    <tr>\n",
       "      <th>0</th>\n",
       "      <td>DnaJ_C</td>\n",
       "      <td>M4V8X0_9PROT/126-339</td>\n",
       "      <td>PF01556.18</td>\n",
       "      <td>LRFITEIELEEVISG.K.E.....AQI......EF..............</td>\n",
       "      <td>LRFITEIELEEVISGKEAQIEFDTEANCDDCNGSGAAKGSSATTCP...</td>\n",
       "      <td>214</td>\n",
       "      <td>0.607477</td>\n",
       "      <td>PF01556.18</td>\n",
       "      <td>False</td>\n",
       "      <td>PF01556.18</td>\n",
       "      <td>False</td>\n",
       "      <td>60%-70%</td>\n",
       "    </tr>\n",
       "    <tr>\n",
       "      <th>1</th>\n",
       "      <td>HisKA</td>\n",
       "      <td>Q55475_SYNY3/177-241</td>\n",
       "      <td>PF00512.25</td>\n",
       "      <td>QRRELVSDLTHELRSPLTVVRGYLEQ.L..AE.................</td>\n",
       "      <td>QRRELVSDLTHELRSPLTVVRGYLEQLAEGTIAGDPELYQRLVGET...</td>\n",
       "      <td>65</td>\n",
       "      <td>0.400000</td>\n",
       "      <td>PF00512.25</td>\n",
       "      <td>False</td>\n",
       "      <td>PF00512.25</td>\n",
       "      <td>False</td>\n",
       "      <td>30%-40%</td>\n",
       "    </tr>\n",
       "    <tr>\n",
       "      <th>2</th>\n",
       "      <td>OppC_N</td>\n",
       "      <td>F7IVL3_TREDE/18-73</td>\n",
       "      <td>PF12911.7</td>\n",
       "      <td>SPA.QQI..R.....I...KFRNNRLAMMGFYMFVT.IVL.L.......</td>\n",
       "      <td>SPAQQIRIKFRNNRLAMMGFYMFVTIVLLVVVTHFYTKFTGYDFAK...</td>\n",
       "      <td>56</td>\n",
       "      <td>0.285714</td>\n",
       "      <td>PF12911.7</td>\n",
       "      <td>False</td>\n",
       "      <td>PF12911.7</td>\n",
       "      <td>False</td>\n",
       "      <td>20%-30%</td>\n",
       "    </tr>\n",
       "    <tr>\n",
       "      <th>3</th>\n",
       "      <td>DUF1400</td>\n",
       "      <td>K9VGC5_9CYAN/34-159</td>\n",
       "      <td>PF07176.11</td>\n",
       "      <td>AAQTVVV.RKGIL.ESS...ISVADLRELAET...GKVPAKLQAYA...</td>\n",
       "      <td>AAQTVVVRKGILESSISVADLRELAETGKVPAKLQAYANLLSDEQR...</td>\n",
       "      <td>126</td>\n",
       "      <td>0.523810</td>\n",
       "      <td>PF07176.11</td>\n",
       "      <td>False</td>\n",
       "      <td>PF07176.11</td>\n",
       "      <td>False</td>\n",
       "      <td>50%-60%</td>\n",
       "    </tr>\n",
       "    <tr>\n",
       "      <th>4</th>\n",
       "      <td>SpaA</td>\n",
       "      <td>R7KCV1_9CLOT/520-587</td>\n",
       "      <td>PF17802.1</td>\n",
       "      <td>KTNT..IL..AGATLKVI...NK..........................</td>\n",
       "      <td>KTNTILAGATLKVINKDTSEVIDTFVTTTTGHSIKGLKAGTYKVIE...</td>\n",
       "      <td>68</td>\n",
       "      <td>0.338235</td>\n",
       "      <td>PF17802.1</td>\n",
       "      <td>False</td>\n",
       "      <td>PF17802.1</td>\n",
       "      <td>False</td>\n",
       "      <td>30%-40%</td>\n",
       "    </tr>\n",
       "  </tbody>\n",
       "</table>\n",
       "</div>"
      ],
      "text/plain": [
       "  family_id         sequence_name family_accession  \\\n",
       "0    DnaJ_C  M4V8X0_9PROT/126-339       PF01556.18   \n",
       "1     HisKA  Q55475_SYNY3/177-241       PF00512.25   \n",
       "2    OppC_N    F7IVL3_TREDE/18-73        PF12911.7   \n",
       "3   DUF1400   K9VGC5_9CYAN/34-159       PF07176.11   \n",
       "4      SpaA  R7KCV1_9CLOT/520-587        PF17802.1   \n",
       "\n",
       "                                    aligned_sequence  \\\n",
       "0  LRFITEIELEEVISG.K.E.....AQI......EF..............   \n",
       "1  QRRELVSDLTHELRSPLTVVRGYLEQ.L..AE.................   \n",
       "2  SPA.QQI..R.....I...KFRNNRLAMMGFYMFVT.IVL.L.......   \n",
       "3  AAQTVVV.RKGIL.ESS...ISVADLRELAET...GKVPAKLQAYA...   \n",
       "4  KTNT..IL..AGATLKVI...NK..........................   \n",
       "\n",
       "                                            sequence  seq_length  \\\n",
       "0  LRFITEIELEEVISGKEAQIEFDTEANCDDCNGSGAAKGSSATTCP...         214   \n",
       "1  QRRELVSDLTHELRSPLTVVRGYLEQLAEGTIAGDPELYQRLVGET...          65   \n",
       "2  SPAQQIRIKFRNNRLAMMGFYMFVTIVLLVVVTHFYTKFTGYDFAK...          56   \n",
       "3  AAQTVVVRKGILESSISVADLRELAETGKVPAKLQAYANLLSDEQR...         126   \n",
       "4  KTNTILAGATLKVINKDTSEVIDTFVTTTTGHSIKGLKAGTYKVIE...          68   \n",
       "\n",
       "   max_seq_identity pfam_max_seq_identity  misclassified_by_dummy_msic  \\\n",
       "0          0.607477            PF01556.18                        False   \n",
       "1          0.400000            PF00512.25                        False   \n",
       "2          0.285714             PF12911.7                        False   \n",
       "3          0.523810            PF07176.11                        False   \n",
       "4          0.338235             PF17802.1                        False   \n",
       "\n",
       "  model_prediction  misclassified_by_model binned_seq_identities  \n",
       "0       PF01556.18                   False               60%-70%  \n",
       "1       PF00512.25                   False               30%-40%  \n",
       "2        PF12911.7                   False               20%-30%  \n",
       "3       PF07176.11                   False               50%-60%  \n",
       "4        PF17802.1                   False               30%-40%  "
      ]
     },
     "execution_count": 46,
     "metadata": {},
     "output_type": "execute_result"
    }
   ],
   "source": [
    "test_df.head()"
   ]
  },
  {
   "cell_type": "code",
   "execution_count": 47,
   "id": "8d5b16b3-3986-4b22-970a-3742ac5e5047",
   "metadata": {
    "tags": []
   },
   "outputs": [],
   "source": [
    "misclassified_df = test_df.loc[test_df['misclassified_by_model']][['family_accession', 'model_prediction']].\\\n",
    "    rename(mapper={'family_accession': 'true', 'model_prediction':'predicted'}, axis=1)"
   ]
  },
  {
   "cell_type": "markdown",
   "id": "3fa7a9d5-ae0c-4427-a3a3-03d90a5c1bbe",
   "metadata": {},
   "source": [
    "### In some cases there have been more than one misclassifications per class, i.e. multiple samples from one class were miclassified as another class"
   ]
  },
  {
   "cell_type": "code",
   "execution_count": 48,
   "id": "7dcfb24e-ea02-4c0f-94b5-d387f5934d63",
   "metadata": {
    "tags": []
   },
   "outputs": [],
   "source": [
    "# get all duplicated samples\n",
    "duplicated_misclassifications = misclassified_df.loc[misclassified_df.duplicated(['true', 'predicted'], keep=False)].sort_values('predicted')"
   ]
  },
  {
   "cell_type": "code",
   "execution_count": 49,
   "id": "968ccaba-30f0-4df9-8758-c9c9bcda9165",
   "metadata": {
    "tags": []
   },
   "outputs": [
    {
     "data": {
      "text/html": [
       "<div>\n",
       "<style scoped>\n",
       "    .dataframe tbody tr th:only-of-type {\n",
       "        vertical-align: middle;\n",
       "    }\n",
       "\n",
       "    .dataframe tbody tr th {\n",
       "        vertical-align: top;\n",
       "    }\n",
       "\n",
       "    .dataframe thead th {\n",
       "        text-align: right;\n",
       "    }\n",
       "</style>\n",
       "<table border=\"1\" class=\"dataframe\">\n",
       "  <thead>\n",
       "    <tr style=\"text-align: right;\">\n",
       "      <th></th>\n",
       "      <th>true</th>\n",
       "      <th>predicted</th>\n",
       "    </tr>\n",
       "  </thead>\n",
       "  <tbody>\n",
       "    <tr>\n",
       "      <th>29556</th>\n",
       "      <td>PF04647.15</td>\n",
       "      <td>PF00003.22</td>\n",
       "    </tr>\n",
       "    <tr>\n",
       "      <th>19906</th>\n",
       "      <td>PF06912.11</td>\n",
       "      <td>PF00003.22</td>\n",
       "    </tr>\n",
       "    <tr>\n",
       "      <th>24039</th>\n",
       "      <td>PF06912.11</td>\n",
       "      <td>PF00003.22</td>\n",
       "    </tr>\n",
       "    <tr>\n",
       "      <th>9819</th>\n",
       "      <td>PF04647.15</td>\n",
       "      <td>PF00003.22</td>\n",
       "    </tr>\n",
       "    <tr>\n",
       "      <th>5833</th>\n",
       "      <td>PF12797.7</td>\n",
       "      <td>PF00037.27</td>\n",
       "    </tr>\n",
       "    <tr>\n",
       "      <th>...</th>\n",
       "      <td>...</td>\n",
       "      <td>...</td>\n",
       "    </tr>\n",
       "    <tr>\n",
       "      <th>57307</th>\n",
       "      <td>PF13634.6</td>\n",
       "      <td>PF17802.1</td>\n",
       "    </tr>\n",
       "    <tr>\n",
       "      <th>17148</th>\n",
       "      <td>PF13634.6</td>\n",
       "      <td>PF17802.1</td>\n",
       "    </tr>\n",
       "    <tr>\n",
       "      <th>45426</th>\n",
       "      <td>PF13634.6</td>\n",
       "      <td>PF17802.1</td>\n",
       "    </tr>\n",
       "    <tr>\n",
       "      <th>24595</th>\n",
       "      <td>PF07219.13</td>\n",
       "      <td>PF17937.1</td>\n",
       "    </tr>\n",
       "    <tr>\n",
       "      <th>37875</th>\n",
       "      <td>PF07219.13</td>\n",
       "      <td>PF17937.1</td>\n",
       "    </tr>\n",
       "  </tbody>\n",
       "</table>\n",
       "<p>944 rows × 2 columns</p>\n",
       "</div>"
      ],
      "text/plain": [
       "             true   predicted\n",
       "29556  PF04647.15  PF00003.22\n",
       "19906  PF06912.11  PF00003.22\n",
       "24039  PF06912.11  PF00003.22\n",
       "9819   PF04647.15  PF00003.22\n",
       "5833    PF12797.7  PF00037.27\n",
       "...           ...         ...\n",
       "57307   PF13634.6   PF17802.1\n",
       "17148   PF13634.6   PF17802.1\n",
       "45426   PF13634.6   PF17802.1\n",
       "24595  PF07219.13   PF17937.1\n",
       "37875  PF07219.13   PF17937.1\n",
       "\n",
       "[944 rows x 2 columns]"
      ]
     },
     "execution_count": 49,
     "metadata": {},
     "output_type": "execute_result"
    }
   ],
   "source": [
    "duplicated_misclassifications"
   ]
  },
  {
   "cell_type": "code",
   "execution_count": 50,
   "id": "08c06f9b-6ff7-417d-9f9b-8db122adac92",
   "metadata": {
    "tags": []
   },
   "outputs": [],
   "source": [
    "# count all misclassified pairs\n",
    "misclassified_pairs_count = misclassified_df[['predicted', 'true']]\\\n",
    "    .groupby(['predicted', 'true']).value_counts().sort_values(ascending=False)"
   ]
  },
  {
   "cell_type": "code",
   "execution_count": 51,
   "id": "b663badb-25bd-4860-875f-1fa8eecdb034",
   "metadata": {
    "tags": []
   },
   "outputs": [
    {
     "data": {
      "text/plain": [
       "predicted   true      \n",
       "PF13405.6   PF00036.32    55\n",
       "PF07719.17  PF00515.28    54\n",
       "PF12798.7   PF10576.9     47\n",
       "PF12874.7   PF13894.6     31\n",
       "PF09527.10  PF04066.13    21\n",
       "PF00037.27  PF12797.7     19\n",
       "PF00095.21  PF00219.18    19\n",
       "PF12661.7   PF02810.15    18\n",
       "PF07811.12  PF13400.6     17\n",
       "PF12661.7   PF13240.6     15\n",
       "dtype: int64"
      ]
     },
     "execution_count": 51,
     "metadata": {},
     "output_type": "execute_result"
    }
   ],
   "source": [
    "misclassified_pairs_count.head(10)"
   ]
  },
  {
   "cell_type": "code",
   "execution_count": 52,
   "id": "5ba9ccba-5c82-4710-9516-1784bf4ef183",
   "metadata": {
    "tags": []
   },
   "outputs": [
    {
     "data": {
      "text/html": [
       "<div>\n",
       "<style scoped>\n",
       "    .dataframe tbody tr th:only-of-type {\n",
       "        vertical-align: middle;\n",
       "    }\n",
       "\n",
       "    .dataframe tbody tr th {\n",
       "        vertical-align: top;\n",
       "    }\n",
       "\n",
       "    .dataframe thead th {\n",
       "        text-align: right;\n",
       "    }\n",
       "</style>\n",
       "<table border=\"1\" class=\"dataframe\">\n",
       "  <thead>\n",
       "    <tr style=\"text-align: right;\">\n",
       "      <th></th>\n",
       "      <th>family_id</th>\n",
       "      <th>sequence_name</th>\n",
       "      <th>family_accession</th>\n",
       "      <th>aligned_sequence</th>\n",
       "      <th>sequence</th>\n",
       "      <th>seq_length</th>\n",
       "      <th>max_seq_identity</th>\n",
       "      <th>pfam_max_seq_identity</th>\n",
       "      <th>misclassified_by_dummy_msic</th>\n",
       "      <th>model_prediction</th>\n",
       "      <th>misclassified_by_model</th>\n",
       "      <th>binned_seq_identities</th>\n",
       "    </tr>\n",
       "  </thead>\n",
       "  <tbody>\n",
       "    <tr>\n",
       "      <th>103</th>\n",
       "      <td>EF-hand_1</td>\n",
       "      <td>FILA_HUMAN/53-81</td>\n",
       "      <td>PF00036.32</td>\n",
       "      <td>MVDVFMDHLDIDHNKKIDFTEFLLMVFKL</td>\n",
       "      <td>MVDVFMDHLDIDHNKKIDFTEFLLMVFKL</td>\n",
       "      <td>29</td>\n",
       "      <td>0.482759</td>\n",
       "      <td>PF00036.32</td>\n",
       "      <td>False</td>\n",
       "      <td>PF13405.6</td>\n",
       "      <td>True</td>\n",
       "      <td>40%-50%</td>\n",
       "    </tr>\n",
       "  </tbody>\n",
       "</table>\n",
       "</div>"
      ],
      "text/plain": [
       "     family_id     sequence_name family_accession  \\\n",
       "103  EF-hand_1  FILA_HUMAN/53-81       PF00036.32   \n",
       "\n",
       "                  aligned_sequence                       sequence  seq_length  \\\n",
       "103  MVDVFMDHLDIDHNKKIDFTEFLLMVFKL  MVDVFMDHLDIDHNKKIDFTEFLLMVFKL          29   \n",
       "\n",
       "     max_seq_identity pfam_max_seq_identity  misclassified_by_dummy_msic  \\\n",
       "103          0.482759            PF00036.32                        False   \n",
       "\n",
       "    model_prediction  misclassified_by_model binned_seq_identities  \n",
       "103        PF13405.6                    True               40%-50%  "
      ]
     },
     "execution_count": 52,
     "metadata": {},
     "output_type": "execute_result"
    }
   ],
   "source": [
    "test_df.loc[test_df['family_accession'] == 'PF00036.32'].head(1)"
   ]
  },
  {
   "cell_type": "code",
   "execution_count": 53,
   "id": "fd5f950e-e3fd-445f-bc1f-0a23dfc429d4",
   "metadata": {
    "tags": []
   },
   "outputs": [
    {
     "data": {
      "text/html": [
       "<div>\n",
       "<style scoped>\n",
       "    .dataframe tbody tr th:only-of-type {\n",
       "        vertical-align: middle;\n",
       "    }\n",
       "\n",
       "    .dataframe tbody tr th {\n",
       "        vertical-align: top;\n",
       "    }\n",
       "\n",
       "    .dataframe thead th {\n",
       "        text-align: right;\n",
       "    }\n",
       "</style>\n",
       "<table border=\"1\" class=\"dataframe\">\n",
       "  <thead>\n",
       "    <tr style=\"text-align: right;\">\n",
       "      <th></th>\n",
       "      <th>family_id</th>\n",
       "      <th>sequence_name</th>\n",
       "      <th>family_accession</th>\n",
       "      <th>aligned_sequence</th>\n",
       "      <th>sequence</th>\n",
       "      <th>seq_length</th>\n",
       "      <th>max_seq_identity</th>\n",
       "      <th>pfam_max_seq_identity</th>\n",
       "      <th>misclassified_by_dummy_msic</th>\n",
       "      <th>model_prediction</th>\n",
       "      <th>misclassified_by_model</th>\n",
       "      <th>binned_seq_identities</th>\n",
       "    </tr>\n",
       "  </thead>\n",
       "  <tbody>\n",
       "    <tr>\n",
       "      <th>1168</th>\n",
       "      <td>EF-hand_6</td>\n",
       "      <td>B5Y4Q9_PHATC/86-115</td>\n",
       "      <td>PF13405.6</td>\n",
       "      <td>EIQ..KVFDLF.D.EG...RKG..HINVQDL.RN..AST..........</td>\n",
       "      <td>EIQKVFDLFDEGRKGHINVQDLRNASTGLG</td>\n",
       "      <td>30</td>\n",
       "      <td>0.533333</td>\n",
       "      <td>PF13405.6</td>\n",
       "      <td>False</td>\n",
       "      <td>PF13405.6</td>\n",
       "      <td>False</td>\n",
       "      <td>50%-60%</td>\n",
       "    </tr>\n",
       "  </tbody>\n",
       "</table>\n",
       "</div>"
      ],
      "text/plain": [
       "      family_id        sequence_name family_accession  \\\n",
       "1168  EF-hand_6  B5Y4Q9_PHATC/86-115        PF13405.6   \n",
       "\n",
       "                                       aligned_sequence  \\\n",
       "1168  EIQ..KVFDLF.D.EG...RKG..HINVQDL.RN..AST..........   \n",
       "\n",
       "                            sequence  seq_length  max_seq_identity  \\\n",
       "1168  EIQKVFDLFDEGRKGHINVQDLRNASTGLG          30          0.533333   \n",
       "\n",
       "     pfam_max_seq_identity  misclassified_by_dummy_msic model_prediction  \\\n",
       "1168             PF13405.6                        False        PF13405.6   \n",
       "\n",
       "      misclassified_by_model binned_seq_identities  \n",
       "1168                   False               50%-60%  "
      ]
     },
     "execution_count": 53,
     "metadata": {},
     "output_type": "execute_result"
    }
   ],
   "source": [
    "test_df.loc[test_df['family_accession'] == 'PF13405.6'].head(1)"
   ]
  },
  {
   "cell_type": "markdown",
   "id": "48086a1d-a566-40be-8bc7-826e4008ae58",
   "metadata": {},
   "source": [
    "EF-hand_1 and EF-hand_6 are probably close families, and the sequence lengths also look similar. So, it is likely that our model capture the similarity even between families and that is why the misclassification occured. In order to be more sure of this, more tests, including explaing the filter activations would be needed in order to conclude this with more certainty."
   ]
  },
  {
   "cell_type": "code",
   "execution_count": null,
   "id": "cfdc33b4-5f0f-4883-a332-17defe5acd16",
   "metadata": {},
   "outputs": [],
   "source": []
  }
 ],
 "metadata": {
  "kernelspec": {
   "display_name": "Python 3 (ipykernel)",
   "language": "python",
   "name": "python3"
  },
  "language_info": {
   "codemirror_mode": {
    "name": "ipython",
    "version": 3
   },
   "file_extension": ".py",
   "mimetype": "text/x-python",
   "name": "python",
   "nbconvert_exporter": "python",
   "pygments_lexer": "ipython3",
   "version": "3.10.0"
  }
 },
 "nbformat": 4,
 "nbformat_minor": 5
}
